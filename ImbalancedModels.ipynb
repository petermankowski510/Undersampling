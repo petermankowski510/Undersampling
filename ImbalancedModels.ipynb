{
 "cells": [
  {
   "cell_type": "code",
   "execution_count": 1,
   "metadata": {},
   "outputs": [],
   "source": [
    "from numpy import unique\n",
    "from numpy import where\n",
    "from pandas import read_csv\n",
    "from collections import Counter\n",
    "from sklearn.datasets import make_classification\n",
    "from imblearn.under_sampling import NearMiss\n",
    "from matplotlib import pyplot"
   ]
  },
  {
   "cell_type": "code",
   "execution_count": 2,
   "metadata": {},
   "outputs": [
    {
     "name": "stdout",
     "output_type": "stream",
     "text": [
      "Counter({0: 901, 1: 99})\n"
     ]
    }
   ],
   "source": [
    "# Dataset to use. Lazy definition-test\n",
    "w=0.90\n",
    "X, y = make_classification(n_samples=1000, n_features=2, n_redundant=0,\n",
    "    n_clusters_per_class=1, weights=[w], flip_y=0, random_state=1)\n",
    "# Report of classification, before undersample\n",
    "local_counter = Counter(y)\n",
    "print(local_counter)"
   ]
  },
  {
   "cell_type": "code",
   "execution_count": 3,
   "metadata": {},
   "outputs": [
    {
     "name": "stdout",
     "output_type": "stream",
     "text": [
      "Counter({0: 99, 1: 99})\n"
     ]
    }
   ],
   "source": [
    "\"\"\" Pick one to try. Definitions\n",
    "NearMiss: 1 Majority class examples with minimum average distance to three closest minority class examples.\n",
    "NearMiss: 2 Majority class examples with minimum average distance to three furthest minority class examples.\n",
    "NearMiss: 3 Majority class examples with minimum distance to each minority class example.\n",
    "\"\"\"\n",
    "undersample = NearMiss(version=2, n_neighbors=3)\n",
    "# transform the dataset\n",
    "X, y = undersample.fit_resample(X, y)\n",
    "# summarize the new class distribution, after undersample\n",
    "local_counter = Counter(y)\n",
    "print(local_counter)"
   ]
  },
  {
   "cell_type": "code",
   "execution_count": 4,
   "metadata": {},
   "outputs": [
    {
     "data": {
      "image/png": "[encoded data removed]",
      "text/plain": [
       "<Figure size 432x288 with 1 Axes>"
      ]
     },
     "metadata": {
      "needs_background": "light"
     },
     "output_type": "display_data"
    }
   ],
   "source": [
    "# scatter plot of examples by class label\n",
    "for label, _ in local_counter.items():\n",
    "\trow_ix = where(y == label)[0]\n",
    "\tpyplot.scatter(X[row_ix, 0], X[row_ix, 1], label=str(label))\n",
    "pyplot.legend()\n",
    "pyplot.show()"
   ]
  },
  {
   "cell_type": "code",
   "execution_count": null,
   "metadata": {},
   "outputs": [],
   "source": []
  },
  {
   "cell_type": "code",
   "execution_count": null,
   "metadata": {},
   "outputs": [],
   "source": []
  }
 ],
 "metadata": {
  "kernelspec": {
   "display_name": "Python 3",
   "language": "python",
   "name": "python3"
  },
  "language_info": {
   "codemirror_mode": {
    "name": "ipython",
    "version": 3
   },
   "file_extension": ".py",
   "mimetype": "text/x-python",
   "name": "python",
   "nbconvert_exporter": "python",
   "pygments_lexer": "ipython3",
   "version": "3.7.4"
  }
 },
 "nbformat": 4,
 "nbformat_minor": 4
}
